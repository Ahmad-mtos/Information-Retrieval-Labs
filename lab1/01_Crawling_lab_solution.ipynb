{
  "cells": [
    {
      "cell_type": "markdown",
      "id": "f70e56cb-00be-49e1-869a-deac83bac346",
      "metadata": {
        "id": "f70e56cb-00be-49e1-869a-deac83bac346"
      },
      "source": [
        "# Essential skill for the Internet crawling\n",
        "\n",
        "## Regular expressions\n",
        "\n",
        "Regular expressions (aka regex, regexp) are used to search for patterns. Machine-readable languages often have regualar structure (not always), or at least are non-ambiguous.\n",
        "\n",
        "Obvious way is, of course, to let machine parse the document and then process the result (as in the previous lab). But this often result in additinal depenencies and significant memory and time overhead (which is ok for a single document, but won't work for millions).\n",
        "\n",
        "### Simple examples"
      ]
    },
    {
      "cell_type": "code",
      "execution_count": 49,
      "id": "1be93130-a7a5-4f2d-9172-1bccf1d87123",
      "metadata": {
        "colab": {
          "base_uri": "https://localhost:8080/"
        },
        "id": "1be93130-a7a5-4f2d-9172-1bccf1d87123",
        "outputId": "4dae0d96-1ebd-4b9b-ab3c-76fd56c34898"
      },
      "outputs": [
        {
          "output_type": "stream",
          "name": "stdout",
          "text": [
            "\\w+: ['we', 'have', 'only', '12', 'do11ars', 'This', 'amount', 'of', 'is', 'small', 'How', 'should', 'we', 'sur', 'vive']\n",
            "\n",
            "[\\w\\-]+: ['we', 'have', 'only', '12', 'do11ars', 'This', 'amount', 'of', 'is', 'small', 'How', 'should', 'we', 'sur-vive']\n",
            "\n",
            "[a-zA-Z0-9-]+: ['we', 'have', 'only', '12', 'do11ars', 'This', 'amount', 'of', 'is', 'small', 'How', 'should', 'we', 'sur-vive']\n",
            "\n",
            ".+: ['we have only 12 do11ars. This amount of $ is small. How should we sur-vive?']\n",
            "\n",
            "[!\\S]+: ['we', 'have', 'only', '12', 'do11ars.', 'This', 'amount', 'of', '$', 'is', 'small.', 'How', 'should', 'we', 'sur-vive?']\n",
            "\n",
            "\\W+[a-z]+\\-[a-z]+.$: [' sur-vive?']\n"
          ]
        }
      ],
      "source": [
        "import re\n",
        "string = \"we have only 12 do11ars. This amount of $ is small. How should we sur-vive?\"\n",
        "\n",
        "# all alphanumerics words\n",
        "# pattern = \"[a-zA-Z0-9]+\"\n",
        "pattern = \"\\w+\"  # because w contains \"a-zA-Z0-9_\"\n",
        "print(pattern, end=\": \")\n",
        "print(re.findall(pattern, string))\n",
        "print()\n",
        "\n",
        "# all alphanumerics but also with hyphen\n",
        "# pattern = \"[a-zA-Z0-9\\-]+\"\n",
        "pattern = \"[\\w\\-]+\"\n",
        "print(pattern, end=\": \")\n",
        "print(re.findall(pattern, string))\n",
        "print()\n",
        "\n",
        "# the same but using explicit character enumeration\n",
        "pattern = \"[a-zA-Z0-9-]+\"\n",
        "print(pattern, end=\": \")\n",
        "print(re.findall(pattern, string))\n",
        "print()\n",
        "\n",
        "# anything\n",
        "pattern = \".+\"\n",
        "print(pattern, end=\": \")\n",
        "print(re.findall(pattern, string))\n",
        "print()\n",
        "\n",
        "# non-spaces, not the same as \\w!\n",
        "pattern = \"[!\\S]+\"\n",
        "print(pattern, end=\": \")\n",
        "print(re.findall(pattern, string))\n",
        "print()\n",
        "\n",
        "\n",
        "# discuss this pattern. Which elements are used here?  \n",
        "pattern = \"\\W+[a-z]+\\-[a-z]+.$\"\n",
        "print(pattern, end=\": \")\n",
        "print(re.findall(pattern, string))"
      ]
    },
    {
      "cell_type": "markdown",
      "id": "cbd60467-c31a-4977-af18-a77862cf60aa",
      "metadata": {
        "id": "cbd60467-c31a-4977-af18-a77862cf60aa"
      },
      "source": [
        "### Find URLs/URIs vs parse the doc\n",
        "\n",
        "Instead of building DOM model and extracting `href` and `src` attributes, you may rely on the structure of the url itself. Extact all URLs from [the page](https://math.stackexchange.com/questions/411486/understanding-the-singular-value-decomposition-svd) with regexp. You major tool is [re.findall(...)](https://docs.python.org/3/library/re.html#). You may also be interested in compiled regular rexpression (if you reuse one)."
      ]
    },
    {
      "cell_type": "code",
      "execution_count": null,
      "id": "a6312c41-143c-4d38-af65-0ad9652caab7",
      "metadata": {
        "colab": {
          "base_uri": "https://localhost:8080/"
        },
        "id": "a6312c41-143c-4d38-af65-0ad9652caab7",
        "outputId": "d365ca1c-4040-4ebc-bea4-91bf8ad512bd"
      },
      "outputs": [
        {
          "output_type": "stream",
          "name": "stdout",
          "text": [
            "\n",
            "(?:([A-Za-z]+):)?(\\/{0,3})([0-9.\\-A-Za-z]+)(?::(\\d+))?(?:\\/([^?#]*))?(?:\\?([^#]*))?(?:#(.*))?\n",
            "[('', '', 'DOCTYPE', '', '', '', ''), ('', '', 'html', '', '', '', ''), ('', '', 'html', '', '', '', ''), ('', '', 'itemscope', '', '', '', ''), ('', '', 'itemtype', '', '', '', ''), ('https', '//', 'schema.org', '', 'QAPage\" class=\"html__responsive \" lang=\"en\">\\r\\n\\r\\n    <head>\\r\\n\\r\\n        <title>linear algebra - Understanding the singular value decomposition (SVD) - Mathematics Stack Exchange</title>\\r\\n        <link rel=\"shortcut icon\" href=\"https://cdn.sstatic.net/Sites/math/Img/favicon.ico', 'v=92addaa54d18\">\\r\\n        <link rel=\"apple-touch-icon\" href=\"https://cdn.sstatic.net/Sites/math/Img/apple-touch-icon.png?v=0ae50baa40ed\">\\r\\n        <link rel=\"image_src\" href=\"https://cdn.sstatic.net/Sites/math/Img/apple-touch-icon.png?v=0ae50baa40ed\"> \\r\\n        <link rel=\"search\" type=\"application/opensearchdescription+xml\" title=\"Mathematics Stack Exchange\" href=\"/opensearch.xml\">\\r\\n        <link rel=\"canonical\" href=\"https://math.stackexchange.com/questions/411486/understanding-the-singular-value-decomposition-svd\" />\\r\\n    <meta name=\"viewport\" content=\"width=device-width, height=device-height, initial-scale=1.0, minimum-scale=1.0\">\\r\\n        <meta property=\"og:type\" content= \"website\" />\\r\\n        <meta property=\"og:url\" content=\"https://math.stackexchange.com/questions/411486/understanding-the-singular-value-decomposition-svd\"/>\\r\\n        <meta property=\"og:site_name\" content=\"Mathematics Stack Exchange\" />\\r\\n        <meta property=\"og:image\" itemprop=\"image primaryImageOfPage\" content=\"https://cdn.sstatic.net/Sites/math/Img/apple-touch-icon@2.png?v=4ec1df2e49b1\" />\\r\\n        <meta name=\"twitter:card\" content=\"summary\"/>\\r\\n        <meta name=\"twitter:domain\" content=\"math.stackexchange.com\"/>\\r\\n        <meta name=\"twitter:site\" content=\"@StackMath\" />\\r\\n        <meta name=\"twitter:creator\" content=\"@StackMath\" />\\r\\n        <meta name=\"twitter:title\" property=\"og:title\" itemprop=\"name\" content=\"Understanding the singular value decomposition (SVD)\" />\\r\\n        <meta name=\"twitter:description\" property=\"og:description\" itemprop=\"description\" content=\"Please, would someone be so kind and explain what exactly happens when Singular Value Decomposition is applied on a matrix? What are singular values, left singular, and right singular vectors? I know \" />\\r\\n    <script id=\"webpack-public-path\" type=\"text/uri-list\">https://cdn.sstatic.net/</script>\\r\\n    <script src=\"https://ajax.googleapis.com/ajax/libs/jquery/1.12.4/jquery.min.js\"></script>\\r\\n    <script defer src=\"https://cdn.sstatic.net/Js/third-party/npm/@stackoverflow/stacks/dist/js/stacks.min.js?v=9bc856be1b3a\"></script>\\r\\n    <script src=\"https://cdn.sstatic.net/Js/stub.en.js?v=cb2c416fc3c2\"></script>\\r\\n\\r\\n\\r\\n    <link rel=\"stylesheet\" type=\"text/css\" href=\"https://cdn.sstatic.net/Shared/stacks.css?v=cb9621e41d1f\">\\r\\n    <link rel=\"stylesheet\" type=\"text/css\" href=\"https://cdn.sstatic.net/Sites/math/primary.css?v=19cbc70ffa04\">\\r\\n\\r\\n\\r\\n    \\r\\n            <link rel=\"alternate\" type=\"application/atom+xml\" title=\"Feed for question &', 'x27;Understanding the singular value decomposition (SVD)&#x27;\" href=\"/feeds/question/411486\">\\r'), ('', '', 'meta', '', '', '', ''), ('', '', 'name', '', '', '', ''), ('twitter', '', 'app', '', '', '', ''), ('', '', 'country', '', '', '', '')]\n",
            "\n",
            "(www|http:|https:)+[^\\s]+[\\w]\n",
            "['https:', 'https:', 'https:', 'https:', 'https:', 'https:', 'https:', 'https:', 'https:', 'https:']\n",
            "\n",
            "https?:\\/\\/(www\\.)?[-a-zA-Z0-9@:%._\\+~#=]{1,256}\\.[a-zA-Z0-9()]{1,6}\b([-a-zA-Z0-9()@:%_\\+.~#?&//=]*)\n",
            "[]\n",
            "\n",
            "[-a-zA-Z0-9@:%._\\+~#=]{1,256}\\.[a-zA-Z0-9()]{1,6}\b([-a-zA-Z0-9()@:%_\\+.~#?&//=]*)?\n",
            "[]\n",
            "\n",
            "(https?:\\/\\/(?:www\\.|(?!www))[a-zA-Z0-9][a-zA-Z0-9-]+[a-zA-Z0-9]\\.[^\\s]{2,}|www\\.[a-zA-Z0-9][a-zA-Z0-9-]+[a-zA-Z0-9]\\.[^\\s]{2,}|https?:\\/\\/(?:www\\.|(?!www))[a-zA-Z0-9]+\\.[^\\s]{2,}|www\\.[a-zA-Z0-9]+\\.[^\\s]{2,})\n",
            "['https://schema.org/QAPage\"', 'https://cdn.sstatic.net/Sites/math/Img/favicon.ico?v=92addaa54d18\">', 'https://cdn.sstatic.net/Sites/math/Img/apple-touch-icon.png?v=0ae50baa40ed\">', 'https://cdn.sstatic.net/Sites/math/Img/apple-touch-icon.png?v=0ae50baa40ed\">', 'https://math.stackexchange.com/questions/411486/understanding-the-singular-value-decomposition-svd\"', 'https://math.stackexchange.com/questions/411486/understanding-the-singular-value-decomposition-svd\"/>', 'https://cdn.sstatic.net/Sites/math/Img/apple-touch-icon@2.png?v=4ec1df2e49b1\"', 'https://cdn.sstatic.net/</script>', 'https://ajax.googleapis.com/ajax/libs/jquery/1.12.4/jquery.min.js\"></script>', 'https://cdn.sstatic.net/Js/third-party/npm/@stackoverflow/stacks/dist/js/stacks.min.js?v=9bc856be1b3a\"></script>']\n",
            "\n",
            "(?!mailto:)(?:(?:http|https|ftp)://)(?:\\S+(?::\\S*)?@)?(?:(?:(?:[1-9]\\d?|1\\d\\d|2[01]\\d|22[0-3])(?:\\.(?:1?\\d{1,2}|2[0-4]\\d|25[0-5])){2}(?:\\.(?:[0-9]\\d?|1\\d\\d|2[0-4]\\d|25[0-4]))|(?:(?:[a-z\\u00a1-\\uffff0-9]+-?)*[a-z\\u00a1-\\uffff0-9]+)(?:\\.(?:[a-z\\u00a1-\\uffff0-9]+-?)*[a-z\\u00a1-\\uffff0-9]+)*(?:\\.(?:[a-z\\u00a1-\\uffff]{2,})))|localhost)(?::\\d{2,5})?(?:(/|\\?|#)[^\\s]*)?\n",
            "['/', '/', '/', '/', '/', '/', '?', '/', '/', '/']\n",
            "\n",
            "https?:\\/\\/(?:www\\.)?[-a-zA-Z0-9@:%._\\+~#=]{1,256}\\.[a-zA-Z0-9()]{1,6}\b(?:[-a-zA-Z0-9()@:%_\\+.~#?&\\/=]*)\n",
            "[]\n"
          ]
        }
      ],
      "source": [
        "import re\n",
        "import requests\n",
        "\n",
        "url = \"https://math.stackexchange.com/questions/\"\\\n",
        "        \"411486/understanding-the-singular-value-decomposition-svd\"\n",
        "\n",
        "text = requests.get(url).text\n",
        "\n",
        "# my inspiration - \n",
        "# I took some example URL regexp from the internet, \n",
        "# specifically from here:\n",
        "# https://stackoverflow.com/questions/3809401/what-is-a-good-regular-expression-to-match-a-url\n",
        "expressions = [\n",
        "    \"(?:([A-Za-z]+):)?(\\/{0,3})([0-9.\\-A-Za-z]+)(?::(\\d+))?(?:\\/([^?#]*))?(?:\\?([^#]*))?(?:#(.*))?\",  \n",
        "    # \n",
        "    \"(www|http:|https:)+[^\\s]+[\\w]\",  \n",
        "    # wwwhttps: w\n",
        "    \"https?:\\/\\/(www\\.)?[-a-zA-Z0-9@:%._\\+~#=]{1,256}\\.[a-zA-Z0-9()]{1,6}\\b([-a-zA-Z0-9()@:%_\\+.~#?&//=]*)\",  \n",
        "    # \n",
        "    \"[-a-zA-Z0-9@:%._\\+~#=]{1,256}\\.[a-zA-Z0-9()]{1,6}\\b([-a-zA-Z0-9()@:%_\\+.~#?&//=]*)?\", \n",
        "    # \n",
        "    \"(https?:\\/\\/(?:www\\.|(?!www))[a-zA-Z0-9][a-zA-Z0-9-]+[a-zA-Z0-9]\\.[^\\s]{2,}|www\\.[a-zA-Z0-9][a-zA-Z0-9-]+[a-zA-Z0-9]\\.[^\\s]{2,}|https?:\\/\\/(?:www\\.|(?!www))[a-zA-Z0-9]+\\.[^\\s]{2,}|www\\.[a-zA-Z0-9]+\\.[^\\s]{2,})\",\n",
        "    # ()\n",
        "    \"(?!mailto:)(?:(?:http|https|ftp)://)(?:\\\\S+(?::\\\\S*)?@)?(?:(?:(?:[1-9]\\\\d?|1\\\\d\\\\d|2[01]\\\\d|22[0-3])(?:\\\\.(?:1?\\\\d{1,2}|2[0-4]\\\\d|25[0-5])){2}(?:\\\\.(?:[0-9]\\\\d?|1\\\\d\\\\d|2[0-4]\\\\d|25[0-4]))|(?:(?:[a-z\\\\u00a1-\\\\uffff0-9]+-?)*[a-z\\\\u00a1-\\\\uffff0-9]+)(?:\\\\.(?:[a-z\\\\u00a1-\\\\uffff0-9]+-?)*[a-z\\\\u00a1-\\\\uffff0-9]+)*(?:\\\\.(?:[a-z\\\\u00a1-\\\\uffff]{2,})))|localhost)(?::\\\\d{2,5})?(?:(/|\\\\?|#)[^\\\\s]*)?\",\n",
        "    #\n",
        "    \"https?:\\/\\/(?:www\\.)?[-a-zA-Z0-9@:%._\\+~#=]{1,256}\\.[a-zA-Z0-9()]{1,6}\\b(?:[-a-zA-Z0-9()@:%_\\+.~#?&\\/=]*)\",\n",
        "    #\n",
        "]\n",
        "\n",
        "for expression in expressions:\n",
        "    print()\n",
        "    pattern = re.compile(expression)\n",
        "    urls = pattern.findall(text)\n",
        "    print(expression)\n",
        "    print(urls[:10])"
      ]
    },
    {
      "cell_type": "markdown",
      "id": "63197434-4483-4d3c-ae0f-0dfb91f396b7",
      "metadata": {
        "id": "63197434-4483-4d3c-ae0f-0dfb91f396b7"
      },
      "source": [
        "Was this success? \n",
        "\n",
        "Compose your own minimalistic:"
      ]
    },
    {
      "cell_type": "code",
      "execution_count": 55,
      "id": "d2055e8c-20d1-4cfe-9229-0f22a24183fb",
      "metadata": {
        "colab": {
          "base_uri": "https://localhost:8080/"
        },
        "id": "d2055e8c-20d1-4cfe-9229-0f22a24183fb",
        "outputId": "9a9c7071-bc39-416e-844c-d9f89063c473"
      },
      "outputs": [
        {
          "output_type": "stream",
          "name": "stdout",
          "text": [
            "151 ['https://schema.org/QAPage', 'https://cdn.sstatic.net/Sites/math/Img/favicon.ico?v=92addaa54d18', 'https://cdn.sstatic.net/Sites/math/Img/apple-touch-icon.png?v=0ae50baa40ed', 'https://cdn.sstatic.net/Sites/math/Img/apple-touch-icon.png?v=0ae50baa40ed', 'https://math.stackexchange.com/questions/411486/understanding-the-singular-value-decomposition-svd', 'https://math.stackexchange.com/questions/411486/understanding-the-singular-value-decomposition-svd', 'https://cdn.sstatic.net/Sites/math/Img/apple-touch-icon', 'https://cdn.sstatic.net/', 'https://ajax.googleapis.com/ajax/libs/jquery/1.12.4/jquery.min.js', 'https://cdn.sstatic.net/Js/third-party/npm/', 'https://cdn.sstatic.net/Js/stub.en.js?v=cb2c416fc3c2', 'https://cdn.sstatic.net/Shared/stacks.css?v=cb9621e41d1f', 'https://cdn.sstatic.net/Sites/math/primary.css?v=19cbc70ffa04', 'https://math.stackexchange.com/questions/411486/understanding-the-singular-value-decomposition-svd', 'https://cdn.sstatic.net/Shared/Channels/channels.css?v=a5fae8812988', 'https://cdn.sstatic.net/Js/third-party/citation-helper.js?v=2591ce444a3f', 'https://cdnjs.cloudflare.com/ajax/libs/mathjax/2.7.5/MathJax.js?config=TeX-AMS_HTML-full', 'https://stackauth.com', 'https://math.meta.stackexchange.com', 'https://cdn.sstatic.net/Img/stacks-icons']\n"
          ]
        }
      ],
      "source": [
        "import re\n",
        "import requests\n",
        "\n",
        "url = \"https://math.stackexchange.com/questions/\"\\\n",
        "        \"411486/understanding-the-singular-value-decomposition-svd\"\n",
        "\n",
        "text = requests.get(url).text\n",
        "\n",
        "protocol = \"https?://\"\n",
        "domain = \"[\\w\\-\\.]+\"\n",
        "path = \"[/\\w\\-\\.]*\"\n",
        "args =  \"(?:\\?[\\=\\-;&\\w_\\[\\]]+)?\"\n",
        "hashtail = \"(?:#[\\w$%-_;]+)?\"  \n",
        "\n",
        "expression = protocol + domain + path + args + hashtail\n",
        "pattern = re.compile(expression)\n",
        "regexp_urls = pattern.findall(text)\n",
        "print(len(regexp_urls), regexp_urls[:20])"
      ]
    },
    {
      "cell_type": "markdown",
      "id": "d2174daf-3ea2-4622-89d2-751aed1e29b9",
      "metadata": {
        "id": "d2174daf-3ea2-4622-89d2-751aed1e29b9"
      },
      "source": [
        "# Streams and files\n",
        "\n",
        "When you deal with the big files you should take care about the RAM. Today 1GB won't suprise anyone on the desktop, but server machines, which implement crawlers, may be optimized for the resource.\n",
        "\n",
        "Using streams instead of RAM-cached files is a good strategy.\n",
        "\n",
        "- Look for solution here: https://stackoverflow.com/a/16696317\n",
        "- Look for the sample big file here: http://xcal1.vodafone.co.uk/\n",
        "- Read about python memory measurement here: https://pythonspeed.com/articles/measuring-memory-python/"
      ]
    },
    {
      "cell_type": "code",
      "execution_count": 56,
      "id": "c819e5ad-2c3e-43b1-a45c-2c1db556e4d9",
      "metadata": {
        "id": "c819e5ad-2c3e-43b1-a45c-2c1db556e4d9"
      },
      "outputs": [],
      "source": [
        "import psutil, gc \n",
        "\n",
        "def get_mem():\n",
        "    return psutil.Process().memory_info().rss"
      ]
    },
    {
      "cell_type": "code",
      "execution_count": 57,
      "id": "3d45cfdf-661e-47bb-a2c1-336b7d091a53",
      "metadata": {
        "id": "3d45cfdf-661e-47bb-a2c1-336b7d091a53"
      },
      "outputs": [],
      "source": [
        "large_file_url = \"http://212.183.159.230/100MB.zip\""
      ]
    },
    {
      "cell_type": "markdown",
      "id": "5c447d2f-383b-4d5e-ad83-67feab474dec",
      "metadata": {
        "id": "5c447d2f-383b-4d5e-ad83-67feab474dec"
      },
      "source": [
        "First, download the file as you would do it simple way:"
      ]
    },
    {
      "cell_type": "code",
      "execution_count": 58,
      "id": "77d31dd2-b334-4d77-820e-ed78b81ad5c4",
      "metadata": {
        "colab": {
          "base_uri": "https://localhost:8080/"
        },
        "id": "77d31dd2-b334-4d77-820e-ed78b81ad5c4",
        "outputId": "7e8d59ca-265a-4869-d412-ba0e37967559"
      },
      "outputs": [
        {
          "output_type": "stream",
          "name": "stdout",
          "text": [
            "Resident set size: 413720576\n",
            "Resident set size: 433639424\n",
            "Resident set size: 433639424\n",
            "Resident set size: 433639424\n"
          ]
        }
      ],
      "source": [
        "gc.collect()\n",
        "print(\"Resident set size:\", get_mem())\n",
        "data = requests.get(large_file_url).content\n",
        "print(\"Resident set size:\", get_mem())\n",
        "\n",
        "with open('100-RAM', 'wb') as f:\n",
        "    f.write(data)\n",
        "\n",
        "print(\"Resident set size:\", get_mem())\n",
        "data = None\n",
        "gc.collect()\n",
        "print(\"Resident set size:\", get_mem())"
      ]
    },
    {
      "cell_type": "markdown",
      "id": "05ad622c-6821-467d-8f9d-6269fed14097",
      "metadata": {
        "id": "05ad622c-6821-467d-8f9d-6269fed14097"
      },
      "source": [
        "And then use the streaming mode of the `requests` library."
      ]
    },
    {
      "cell_type": "code",
      "execution_count": 59,
      "id": "0f20b4eb-a60c-4be1-910e-c029bdf4cb2c",
      "metadata": {
        "id": "0f20b4eb-a60c-4be1-910e-c029bdf4cb2c",
        "outputId": "05ccdc33-3a1f-4197-b92b-0fa43c86bc6d",
        "colab": {
          "base_uri": "https://localhost:8080/"
        }
      },
      "outputs": [
        {
          "output_type": "stream",
          "name": "stdout",
          "text": [
            "Resident set size: 433639424\n",
            "Resident set size: 433639424\n"
          ]
        }
      ],
      "source": [
        "import requests\n",
        "import shutil\n",
        "\n",
        "def download_file(url, destination):\n",
        "  with requests.get(url, stream=True) as r:\n",
        "      r.raise_for_status()\n",
        "      with open(destination, 'wb') as f:\n",
        "          shutil.copyfileobj(r.raw, f)\n",
        "\n",
        "gc.collect()\n",
        "print(\"Resident set size:\", get_mem())\n",
        "download_file(large_file_url, \"100-stream\")\n",
        "print(\"Resident set size:\", get_mem())"
      ]
    },
    {
      "cell_type": "markdown",
      "id": "b02814d2-da81-40c6-baa2-a1453626df3a",
      "metadata": {
        "id": "b02814d2-da81-40c6-baa2-a1453626df3a"
      },
      "source": [
        "# BeautifulSoup\n",
        "\n",
        "Plain text HTML is a mixture of content, markup, and code. Extracting structure, or URLs, or plain text might be tricky with regular expressions. \n",
        "\n",
        "Building a DOM model is slow, but may save a lot of code and keep you from mistakes.\n",
        "\n",
        "## Extract all sentences\n",
        "For indexing and semantic analysis we use different granularity. Often sentence is a good choice. "
      ]
    },
    {
      "cell_type": "code",
      "source": [
        "import nltk\n",
        "nltk.download('punkt')"
      ],
      "metadata": {
        "colab": {
          "base_uri": "https://localhost:8080/"
        },
        "id": "I5ExOwMI8KJx",
        "outputId": "f0135e65-007d-479f-9e24-8a878fc86eab"
      },
      "id": "I5ExOwMI8KJx",
      "execution_count": 60,
      "outputs": [
        {
          "output_type": "stream",
          "name": "stderr",
          "text": [
            "[nltk_data] Downloading package punkt to /root/nltk_data...\n",
            "[nltk_data]   Package punkt is already up-to-date!\n"
          ]
        },
        {
          "output_type": "execute_result",
          "data": {
            "text/plain": [
              "True"
            ]
          },
          "metadata": {},
          "execution_count": 60
        }
      ]
    },
    {
      "cell_type": "code",
      "execution_count": 67,
      "id": "186a793c-39ea-463d-8106-b719e4de3e33",
      "metadata": {
        "colab": {
          "base_uri": "https://localhost:8080/"
        },
        "id": "186a793c-39ea-463d-8106-b719e4de3e33",
        "outputId": "0dcc07d2-5e96-4e08-9139-e6302d0f7392"
      },
      "outputs": [
        {
          "output_type": "stream",
          "name": "stdout",
          "text": [
            "534 [\"Ideally we'd have a set of classes in the partials above that would correspond to\", '// the behaviours we want here in a more clear way.', '// sticky question-page hero at the bottom of the page on SO', \"$('.js-dismiss').on('click', function () {\", 'StackExchange.using(\"gps\", function () {', 'StackExchange.gps.track(\"hero.action\", { hero_action_type: \"close\", location: location }, true);', '});', 'StackExchange.Hero.dismiss();', '$(\".js-dismissable-hero\").fadeOut(\"fast\");', '});']\n"
          ]
        }
      ],
      "source": [
        "from bs4 import BeautifulSoup\n",
        "from bs4.element import Comment\n",
        "from nltk import tokenize\n",
        "\n",
        "doc_url = \"https://math.stackexchange.com/questions/\"\\\n",
        "        \"411486/understanding-the-singular-value-decomposition-svd\"\n",
        "\n",
        "text = requests.get(doc_url).text\n",
        "dom = BeautifulSoup(text)\n",
        "paragraphs = [p.strip() for p in dom.text.split('\\n') if p.strip()]\n",
        "\n",
        "sents = []\n",
        "for p in paragraphs:\n",
        "    # sents.extend(p)\n",
        "    sents.extend(tokenize.sent_tokenize(p))\n",
        "    # TODO Find all the sentences\n",
        "    \n",
        "print(len(sents), sents[90:100])"
      ]
    },
    {
      "cell_type": "markdown",
      "id": "8ead20dc-0608-4dde-a34a-3663692c9c6c",
      "metadata": {
        "id": "8ead20dc-0608-4dde-a34a-3663692c9c6c"
      },
      "source": [
        "# Extract URLs from nodes\n",
        "\n",
        "Be careful with relative links. How would you process them?"
      ]
    },
    {
      "cell_type": "code",
      "execution_count": 69,
      "id": "33586e48-d334-4641-9d37-a24894026b86",
      "metadata": {
        "colab": {
          "base_uri": "https://localhost:8080/"
        },
        "id": "33586e48-d334-4641-9d37-a24894026b86",
        "outputId": "1dc90b0a-01bc-4997-b975-5cd8f81b1551"
      },
      "outputs": [
        {
          "output_type": "execute_result",
          "data": {
            "text/plain": [
              "(['https://stackexchange.com/sites#science',\n",
              "  'https://math.stackexchange.com/q/3982996',\n",
              "  'https://math.stackexchange.com/posts/3242024/timeline',\n",
              "  'https://rpg.stackexchange.com/questions/204356/do-ashbound-and-augment-summoning-stack-together-for-summon-natures-ally-spel',\n",
              "  'https://math.stackexchange.com/questions/704238/singular-value-decomposition-of-rank-1-matrix',\n",
              "  'https://stackexchange.com',\n",
              "  'https://twitter.com/stackoverflow',\n",
              "  'https://math.stackexchange.com/a/1773189',\n",
              "  'https://math.stackexchange.com/q/173601',\n",
              "  'https://electronics.stackexchange.com/questions/652114/is-hsync-required-during-vsync-for-vga'],\n",
              " 136)"
            ]
          },
          "metadata": {},
          "execution_count": 69
        }
      ],
      "source": [
        "import urllib.parse\n",
        "\n",
        "all_hrefs = dom.find_all('a', href=True)\n",
        "all_urls = set()\n",
        "\n",
        "for a in all_hrefs:\n",
        "    url = urllib.parse.urljoin(doc_url, a[\"href\"])\n",
        "    all_urls.add(url)\n",
        "\n",
        "all_urls = list(all_urls)\n",
        "all_urls[:10], len(all_urls)"
      ]
    },
    {
      "cell_type": "markdown",
      "id": "f9951d22-ec99-4d13-ad47-38d35d388827",
      "metadata": {
        "id": "f9951d22-ec99-4d13-ad47-38d35d388827"
      },
      "source": [
        "Discuss the next result:"
      ]
    },
    {
      "cell_type": "code",
      "execution_count": null,
      "id": "ec65f900-3a74-4664-8b38-301f7c292649",
      "metadata": {
        "id": "ec65f900-3a74-4664-8b38-301f7c292649",
        "outputId": "02fe83c0-4c0d-43ce-d76a-eaea11ecd83b",
        "colab": {
          "base_uri": "https://localhost:8080/"
        }
      },
      "outputs": [
        {
          "output_type": "stream",
          "name": "stdout",
          "text": [
            "|DOM ∩ REGX| = 52\n",
            "|DOM \\ REGX| = 84\n",
            "|REGX \\ DOM| = 63\n"
          ]
        }
      ],
      "source": [
        "print(\"|DOM ∩ REGX| =\", len(set(all_urls) & set(regexp_urls)))\n",
        "print(\"|DOM \\ REGX| =\", len(set(all_urls) - set(regexp_urls)))\n",
        "print(\"|REGX \\ DOM| =\", len(set(regexp_urls) - set(all_urls)))"
      ]
    },
    {
      "cell_type": "markdown",
      "id": "9a6bb8ed-9a9b-44db-bb97-9ef6cfe69b97",
      "metadata": {
        "id": "9a6bb8ed-9a9b-44db-bb97-9ef6cfe69b97"
      },
      "source": [
        "# Unique file name\n",
        "\n",
        "Please, never try to convert a domain (`google.com`), or a path component (`/index.php`) into a filename. They are not unique!\n",
        "\n",
        "Also, better not to try to substitute sensitive symbols of the full URL (`/:`...) -- you will definitely forget one. Also, you may easily overflow file name.\n",
        "\n",
        "Nice way is to use hash strings with fixed length and character set. Compute hash strings from the previous list."
      ]
    },
    {
      "cell_type": "code",
      "execution_count": 71,
      "id": "83ab186e-d4e0-4612-a4f4-be7eadae4d47",
      "metadata": {
        "colab": {
          "base_uri": "https://localhost:8080/"
        },
        "id": "83ab186e-d4e0-4612-a4f4-be7eadae4d47",
        "outputId": "baee73a5-d883-44da-e4b2-c8934ac1edba"
      },
      "outputs": [
        {
          "output_type": "stream",
          "name": "stdout",
          "text": [
            "02150e4ca03f9d340ec1fb1719db3dc3 https://stackex...m/sites#science\n",
            "02a7192d365bf51e41725b18f0e64048 https://math.st...e.com/q/3982996\n",
            "484d2f375a503997b217239f368aea2a https://math.st...242024/timeline\n",
            "4347c8edf777a147c42ce2e33e18dbf2 https://rpg.sta...tures-ally-spel\n",
            "72d8bfe9fea702969300929c2f96f449 https://math.st...f-rank-1-matrix\n",
            "d0f657200a83621ed196e51d5c00f732 https://stackex...ackexchange.com\n",
            "181b374f132e3c32536a6a68f520ae65 https://twitter...m/stackoverflow\n",
            "37404a696d7cf4359cff786d30ff2d1a https://math.st...e.com/a/1773189\n",
            "a718d2601de1d7ec70bce7e0575836a0 https://math.st...ge.com/q/173601\n",
            "4618c91e067f14f437d4c5f5b9e1716f https://electro...g-vsync-for-vga\n",
            "82722c1b2c61f7f773443dd5735f7329 https://api.sta...ckexchange.com/\n",
            "6ebe74ad12c643e4f15e1a8531ccf0bb https://stackov...flow.blog?blb=1\n",
            "adba9d373d137e54521a71922f4b19a8 https://math.st...he-principal-co\n",
            "24497ea9000c3d03dc5e7d4856d30b22 https://math.st...masz-bartkowiak\n",
            "d9e8d6455e64a8fb8010b9940adb7c89 https://math.st...rs/337175/hgfei\n",
            "15c0e7e45bf02803799e1b85b6bb2304 https://writing...blished-writing\n",
            "66894d44bdd7facafcd771cb9d8c03e0 https://math.st...476863/timeline\n",
            "2d9fae4ed12faaffbcc6dbda3fdb15dd https://math.st...e.com/q/4315564\n",
            "60d7df84db61a7d20901e2604fda9252 https://stackov...rflow.com/legal\n",
            "5de2a5644f882dc97579ce25ee04788c https://stackex.../sites#business\n"
          ]
        }
      ],
      "source": [
        "import hashlib\n",
        "\n",
        "for url in all_urls[:20]:\n",
        "    s = hashlib.md5(url.encode(\"utf-8\")).hexdigest()\n",
        "    print(s, url[:15] + \"...\" + url[-15:])"
      ]
    }
  ],
  "metadata": {
    "kernelspec": {
      "display_name": "ai",
      "language": "python",
      "name": "ai"
    },
    "language_info": {
      "codemirror_mode": {
        "name": "ipython",
        "version": 3
      },
      "file_extension": ".py",
      "mimetype": "text/x-python",
      "name": "python",
      "nbconvert_exporter": "python",
      "pygments_lexer": "ipython3",
      "version": "3.9.7"
    },
    "colab": {
      "provenance": []
    }
  },
  "nbformat": 4,
  "nbformat_minor": 5
}