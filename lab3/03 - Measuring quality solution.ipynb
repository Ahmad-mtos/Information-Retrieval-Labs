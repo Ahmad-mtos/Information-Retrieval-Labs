{
 "cells": [
  {
   "cell_type": "markdown",
   "id": "1b1f94b9-7b73-4748-9286-d786a69bdf71",
   "metadata": {},
   "source": [
    "# 1. Assessor and analyst work\n",
    "\n",
    "## 1.0. Rating and criteria\n",
    "\n",
    "Please [open this document](https://static.googleusercontent.com/media/guidelines.raterhub.com/en//searchqualityevaluatorguidelines.pdf)\n",
    "and study chapters 13.0-13.4. Your task will be to assess the organic answers of search engines given the same query.\n",
    "\n",
    "## 1.1. Explore the page\n",
    "\n",
    "For the following search engines:\n",
    "- https://duckduckgo.com/\n",
    "- https://www.bing.com/\n",
    "- https://ya.ru/\n",
    "- https://www.google.com/\n",
    "\n",
    "Perform the same query: \"**How to get from Kazan to Voronezh**\".\n",
    "\n",
    "Discuss with your TA the following:\n",
    "1. Which elements you may identify at SERP? Ads, snippets, blends from other sources, ...?\n",
    "2. Where are organic results? How many of them are there?\n",
    "\n",
    "## 1.2. Rate the results of the search engine\n",
    "\n",
    "If there are many of you in the group, assess all search engines, otherwise choose 1 or 2. There should be no less than 5 of your for each search engine. Use the scale from the handbook, use 0..4 numerical equivalents for . \n",
    "\n",
    "Compute:\n",
    "- average relevance and standard deviation.\n",
    "- [Fleiss kappa score](https://en.wikipedia.org/wiki/Fleiss%27_kappa#Worked_example). Use [this implementation](https://www.statsmodels.org/dev/generated/statsmodels.stats.inter_rater.fleiss_kappa.html).\n",
    "- [Kendall rank coefficient](https://en.wikipedia.org/wiki/Kendall_rank_correlation_coefficient). Use [this implementation](https://docs.scipy.org/doc/scipy/reference/generated/scipy.stats.kendalltau.html).\n",
    "\n",
    "Discuss numerical results. Did you agree on the relevance? Did you agree on the rank? What is the difference?"
   ]
  },
  {
   "cell_type": "code",
   "execution_count": 1,
   "id": "3c3738c6-ed54-4113-b75a-cba812c5aade",
   "metadata": {},
   "outputs": [],
   "source": [
    "import numpy as np\n",
    "# example input by users\n",
    "ranking_data = np.array([\n",
    "    [4, 4, 4, 3, 4, 2, 2, 1, 1, 0], # assessor 1 relevance\n",
    "    [4, 3, 4, 3, 3, 2, 1, 1, 1, 1], # assessor 2 relevance\n",
    "    [3, 4, 4, 4, 4, 3, 2, 1, 1, 1], # ...\n",
    "    [4, 4, 4, 4, 3, 2, 2, 1, 1, 0],\n",
    "    [4, 4, 4, 4, 3, 2, 2, 1, 1, 3]\n",
    "])"
   ]
  },
  {
   "cell_type": "markdown",
   "id": "32a88b0e-5ece-404c-9fc2-82c4d1bb3281",
   "metadata": {},
   "source": [
    "Averages ang standard deviations per item."
   ]
  },
  {
   "cell_type": "code",
   "execution_count": 2,
   "id": "59c53e3e-120f-45ec-94c1-f02d061f0177",
   "metadata": {},
   "outputs": [
    {
     "name": "stdout",
     "output_type": "stream",
     "text": [
      " 0 relevance 3.80 ± 0.400\n",
      " 1 relevance 3.80 ± 0.400\n",
      " 2 relevance 4.00 ± 0.000\n",
      " 3 relevance 3.60 ± 0.490\n",
      " 4 relevance 3.40 ± 0.490\n",
      " 5 relevance 2.20 ± 0.400\n",
      " 6 relevance 1.80 ± 0.400\n",
      " 7 relevance 1.00 ± 0.000\n",
      " 8 relevance 1.00 ± 0.000\n",
      " 9 relevance 1.00 ± 1.095\n"
     ]
    }
   ],
   "source": [
    "average_relevance = ranking_data.mean(axis=0)\n",
    "sigma2 = ((ranking_data - average_relevance) ** 2).mean(axis=0)\n",
    "sigma = sigma2 ** .5\n",
    "\n",
    "for i in range(ranking_data.shape[1]):\n",
    "    print(f\" {i} relevance {average_relevance[i]:.2f} ± {sigma[i]:.3f}\")"
   ]
  },
  {
   "cell_type": "markdown",
   "id": "70a88642-87aa-42c1-b913-83eb9b22d973",
   "metadata": {},
   "source": [
    "Fleiss kappa score"
   ]
  },
  {
   "cell_type": "code",
   "execution_count": 3,
   "id": "06e63c2c-090d-4da1-b0b8-45ec2538e635",
   "metadata": {},
   "outputs": [
    {
     "name": "stdout",
     "output_type": "stream",
     "text": [
      "Requirement already satisfied: statsmodels in /opt/anaconda3/lib/python3.8/site-packages (0.12.2)\r\n",
      "Requirement already satisfied: numpy>=1.15 in /opt/anaconda3/lib/python3.8/site-packages (from statsmodels) (1.22.2)\r\n",
      "Requirement already satisfied: scipy>=1.1 in /opt/anaconda3/lib/python3.8/site-packages (from statsmodels) (1.8.1)\r\n",
      "Requirement already satisfied: patsy>=0.5 in /opt/anaconda3/lib/python3.8/site-packages (from statsmodels) (0.5.1)\r\n",
      "Requirement already satisfied: pandas>=0.21 in /opt/anaconda3/lib/python3.8/site-packages (from statsmodels) (1.2.4)\r\n",
      "Requirement already satisfied: python-dateutil>=2.7.3 in /opt/anaconda3/lib/python3.8/site-packages (from pandas>=0.21->statsmodels) (2.8.1)\r\n",
      "Requirement already satisfied: pytz>=2017.3 in /opt/anaconda3/lib/python3.8/site-packages (from pandas>=0.21->statsmodels) (2021.1)\r\n",
      "Requirement already satisfied: six in /opt/anaconda3/lib/python3.8/site-packages (from patsy>=0.5->statsmodels) (1.15.0)\r\n"
     ]
    }
   ],
   "source": [
    "!pip install statsmodels"
   ]
  },
  {
   "cell_type": "code",
   "execution_count": 4,
   "id": "6cb6cbb6-7768-42f0-aed3-215488d15bc2",
   "metadata": {},
   "outputs": [
    {
     "name": "stdout",
     "output_type": "stream",
     "text": [
      "Agreement matrix:\n",
      "[[0 0 0 1 4]\n",
      " [0 0 0 1 4]\n",
      " [0 0 0 0 5]\n",
      " [0 0 0 2 3]\n",
      " [0 0 0 3 2]\n",
      " [0 0 4 1 0]\n",
      " [0 1 4 0 0]\n",
      " [0 5 0 0 0]\n",
      " [0 5 0 0 0]\n",
      " [2 2 0 1 0]]\n",
      "Categories: [0 1 2 3 4]\n",
      "Kappa: 0.5156081808396124\n"
     ]
    }
   ],
   "source": [
    "from statsmodels.stats.inter_rater import aggregate_raters, fleiss_kappa\n",
    "transposed = ranking_data.T\n",
    "\n",
    "aggregate, cats = aggregate_raters(transposed)\n",
    "print(\"Agreement matrix:\")\n",
    "print(aggregate)\n",
    "print(\"Categories:\", cats)\n",
    "print(\"Kappa:\", fleiss_kappa(aggregate))"
   ]
  },
  {
   "cell_type": "code",
   "execution_count": 7,
   "id": "819076f9",
   "metadata": {},
   "outputs": [
    {
     "data": {
      "text/plain": [
       "array([4, 3, 4, 3, 3, 2, 1, 1, 1, 1])"
      ]
     },
     "execution_count": 7,
     "metadata": {},
     "output_type": "execute_result"
    }
   ],
   "source": [
    "ranking_data[1]"
   ]
  },
  {
   "cell_type": "markdown",
   "id": "3bd6069e-e8a1-4483-b1f2-bf5f4e982283",
   "metadata": {},
   "source": [
    "Kendall tau score is pairwise. Compare one to another."
   ]
  },
  {
   "cell_type": "code",
   "execution_count": 5,
   "id": "6e7f5f22-74a4-47cd-848a-09c8e1abb39c",
   "metadata": {},
   "outputs": [
    {
     "data": {
      "text/plain": [
       "KendalltauResult(correlation=0.8336550215650926, pvalue=0.0031006074932690315)"
      ]
     },
     "execution_count": 5,
     "metadata": {},
     "output_type": "execute_result"
    }
   ],
   "source": [
    "from scipy.stats import kendalltau\n",
    "kendalltau(ranking_data[0], ranking_data[1])"
   ]
  },
  {
   "cell_type": "markdown",
   "id": "9eed044a-9a49-432d-b7a6-7591087d0de7",
   "metadata": {},
   "source": [
    "# 2. Engineer work\n",
    "\n",
    "You will create a bucket of URLs which are relevant for the query **\"free cloud git\"**. Then you will automate the search procedure using https://serpapi.com/, or https://developers.google.com/custom-search/v1/overview, or whatever.\n",
    "\n",
    "Then you will compute MRR@10 and Precision@10.\n",
    "\n",
    "## 2.1. Build your bucket here"
   ]
  },
  {
   "cell_type": "code",
   "execution_count": 10,
   "id": "e11aa566-0ab3-48d7-959c-ab6cb875d7ac",
   "metadata": {},
   "outputs": [],
   "source": [
    "rel_bucket = [\n",
    "    \"gitpod.io\",\n",
    "    \"github.com\",\n",
    "    \"bitbucket.org\",\n",
    "    \"source.cloud.google.com\",\n",
    "    \"gitlab.com\",\n",
    "    \"sourceforge.net\",\n",
    "    \"aws.amazon.com/codecommit/\",\n",
    "    \"launchpad.net\",\n",
    "]\n",
    "\n",
    "query = \"free git cloud\""
   ]
  },
  {
   "cell_type": "markdown",
   "id": "d501aa5e-7051-4039-930b-b293c49721e1",
   "metadata": {},
   "source": [
    "## 2.2. Relevance assessment\n",
    "\n",
    "Write the code to check that the obtained document is relevant (True) or not (False)."
   ]
  },
  {
   "cell_type": "code",
   "execution_count": 11,
   "id": "450a610f-c121-4781-8719-1dcfd4892625",
   "metadata": {},
   "outputs": [],
   "source": [
    "def is_rel(resp_url):\n",
    "    for u in rel_bucket:\n",
    "        if u in resp_url:\n",
    "            return True\n",
    "    else:\n",
    "        return False"
   ]
  },
  {
   "cell_type": "markdown",
   "id": "5c3c2ea8-19c1-44b5-8fc2-fa4e23182dae",
   "metadata": {},
   "source": [
    "## 2.3. Automation\n",
    "\n",
    "Get search results from the automation tool you use."
   ]
  },
  {
   "cell_type": "code",
   "execution_count": 12,
   "id": "ffe12796-1c95-45d8-9d0d-de9bb65aeea9",
   "metadata": {},
   "outputs": [],
   "source": [
    "api_key = \"5aff1ae53da3a991a97d770bf1991833ba30a97d68925ede4cb0003285c727ba\""
   ]
  },
  {
   "cell_type": "code",
   "execution_count": 13,
   "id": "a849862d-ad6d-48c9-bf86-2606b9923c46",
   "metadata": {},
   "outputs": [],
   "source": [
    "import requests \n",
    "\n",
    "url = f\"https://serpapi.com/search.json?q={query}&hl=en&gl=us&google_domain=google.com&api_key={api_key}\"\n",
    "js = requests.get(url).json()"
   ]
  },
  {
   "cell_type": "code",
   "execution_count": 16,
   "id": "4da0af32",
   "metadata": {},
   "outputs": [
    {
     "data": {
      "text/plain": [
       "[{'position': 1,\n",
       "  'title': '6 places to host your git repository - Opensource.com',\n",
       "  'link': 'https://opensource.com/article/18/8/github-alternatives',\n",
       "  'displayed_link': 'https://opensource.com › article › github-alternatives',\n",
       "  'date': 'Aug 30, 2018',\n",
       "  'snippet': '6 places to host your git repository · Option 1: GitHub. Seriously, this is a valid option. · Option 2: GitLab. GitLab is probably the leading ...',\n",
       "  'snippet_highlighted_words': ['git', 'GitLab', 'GitLab'],\n",
       "  'about_this_result': {'source': {'description': 'opensource.com was first indexed by Google more than 10 years ago',\n",
       "    'source_info_link': 'https://opensource.com/article/18/8/github-alternatives',\n",
       "    'security': 'secure',\n",
       "    'icon': 'https://serpapi.com/searches/63e7c7a8e0ded48f30ac52b7/images/dea020dba9924c44aa340756ceef73bd8f22dd55bf181b0b64295d19232ac5aa2675782e4b19ba1eb2c3825531f96118.png'}},\n",
       "  'about_page_link': 'https://www.google.com/search?q=About+https://opensource.com/article/18/8/github-alternatives&tbm=ilp&ilps=AB_Lh3qV81mpzul055QlvqP3mudQy6lXxA',\n",
       "  'about_page_serpapi_link': 'https://serpapi.com/search.json?engine=google_about_this_result&google_domain=google.com&ilps=AB_Lh3qV81mpzul055QlvqP3mudQy6lXxA&q=About+https%3A%2F%2Fopensource.com%2Farticle%2F18%2F8%2Fgithub-alternatives',\n",
       "  'cached_page_link': 'https://webcache.googleusercontent.com/search?q=cache:uroABc3MxO4J:https://opensource.com/article/18/8/github-alternatives&cd=1&hl=en&ct=clnk&gl=us'},\n",
       " {'position': 2,\n",
       "  'title': 'Bitbucket | Git solution for teams using Jira',\n",
       "  'link': 'https://bitbucket.org/product',\n",
       "  'displayed_link': 'https://bitbucket.org › product',\n",
       "  'snippet': 'Bitbucket Cloud is a Git-based code and CI/CD tool optimized for teams using Jira.',\n",
       "  'snippet_highlighted_words': ['Cloud', 'Git'],\n",
       "  'sitelinks': {'inline': [{'title': 'Pricing',\n",
       "     'link': 'https://bitbucket.org/product/pricing'},\n",
       "    {'title': 'Open and close the navigation menu',\n",
       "     'link': 'https://bitbucket.org/product/enterprise'},\n",
       "    {'title': 'Why Bitbucket',\n",
       "     'link': 'https://bitbucket.org/product/features/pipelines'},\n",
       "    {'title': 'Product Guide',\n",
       "     'link': 'https://bitbucket.org/product/guides'}]},\n",
       "  'about_this_result': {'source': {'description': 'Bitbucket is a Git-based source code repository hosting service owned by Atlassian. Bitbucket offers both commercial plans and free accounts with an unlimited number of private repositories.',\n",
       "    'source_info_link': 'https://bitbucket.org/product',\n",
       "    'security': 'secure',\n",
       "    'icon': 'https://serpapi.com/searches/63e7c7a8e0ded48f30ac52b7/images/dea020dba9924c44aa340756ceef73bdd9c7d24473338087858b90c02a4d01c6accfe23812fb32323a3d9b14e089a3d0.png'}},\n",
       "  'about_page_link': 'https://www.google.com/search?q=About+https://bitbucket.org/&tbm=ilp&ilps=AB_Lh3pw3BvrugemqNEQsyeQWlbVjxILPg',\n",
       "  'about_page_serpapi_link': 'https://serpapi.com/search.json?engine=google_about_this_result&google_domain=google.com&ilps=AB_Lh3pw3BvrugemqNEQsyeQWlbVjxILPg&q=About+https%3A%2F%2Fbitbucket.org%2F',\n",
       "  'cached_page_link': 'https://webcache.googleusercontent.com/search?q=cache:nO-ukpgTxroJ:https://bitbucket.org/product&cd=2&hl=en&ct=clnk&gl=us',\n",
       "  'related_pages_link': 'https://www.google.com/search?ucbcb=1&gl=us&q=related:https://bitbucket.org/product+free+git+cloud'},\n",
       " {'position': 3,\n",
       "  'title': 'Gitpod: Always ready to code.',\n",
       "  'link': 'https://www.gitpod.io/',\n",
       "  'displayed_link': 'https://www.gitpod.io',\n",
       "  'snippet': \"Gitpod is a cloud development environment for teams to efficiently and securely develop software. Improve your team's developer experience by coding in a ...\",\n",
       "  'snippet_highlighted_words': ['cloud'],\n",
       "  'sitelinks': {'inline': [{'title': 'CDE',\n",
       "     'link': 'https://www.gitpod.io/cde'},\n",
       "    {'title': 'Enterprise', 'link': 'https://www.gitpod.io/for/enterprise'},\n",
       "    {'title': 'Customers', 'link': 'https://www.gitpod.io/customers'},\n",
       "    {'title': 'Pricing', 'link': 'https://www.gitpod.io/pricing'}]},\n",
       "  'about_this_result': {'source': {'description': 'gitpod.io was first indexed by Google in March 2018',\n",
       "    'source_info_link': 'https://www.gitpod.io/',\n",
       "    'security': 'secure',\n",
       "    'icon': 'https://serpapi.com/searches/63e7c7a8e0ded48f30ac52b7/images/dea020dba9924c44aa340756ceef73bd420f7b200d7483f03cdc70fd2c35fcd7b2ad0e8cea536bd3d92fdf4e7745bfaa.png'}},\n",
       "  'about_page_link': 'https://www.google.com/search?q=About+https://www.gitpod.io/&tbm=ilp&ilps=AB_Lh3pqpRRZuRTTj-QtlJGodNu9HTuxhA',\n",
       "  'about_page_serpapi_link': 'https://serpapi.com/search.json?engine=google_about_this_result&google_domain=google.com&ilps=AB_Lh3pqpRRZuRTTj-QtlJGodNu9HTuxhA&q=About+https%3A%2F%2Fwww.gitpod.io%2F',\n",
       "  'cached_page_link': 'https://webcache.googleusercontent.com/search?q=cache:aFYe_Xdq3doJ:https://www.gitpod.io/&cd=13&hl=en&ct=clnk&gl=us'},\n",
       " {'position': 4,\n",
       "  'title': 'GitLab: The DevSecOps Platform',\n",
       "  'link': 'https://about.gitlab.com/',\n",
       "  'displayed_link': 'https://about.gitlab.com',\n",
       "  'snippet': 'Software. Faster. From planning to production, GitLab brings teams together to shorten cycle times, reduce costs, strengthen security, and increase ...',\n",
       "  'snippet_highlighted_words': ['GitLab'],\n",
       "  'about_this_result': {'source': {'description': 'GitLab Inc. is an open-core company that operates GitLab, a DevOps software package which can develop, secure, and operate software. The open source software project was created by Ukrainian developer Dmitriy Zaporozhets and Dutch developer Sytse Sijbrandij.',\n",
       "    'source_info_link': 'https://about.gitlab.com/',\n",
       "    'security': 'secure',\n",
       "    'icon': 'https://serpapi.com/searches/63e7c7a8e0ded48f30ac52b7/images/dea020dba9924c44aa340756ceef73bde7b61b7d072216d45eb68bd23932a1418ef9702d50d07eae465a342a9284fe8d.png'}},\n",
       "  'about_page_link': 'https://www.google.com/search?q=About+https://about.gitlab.com/&tbm=ilp&ilps=AB_Lh3qVAlDQKKGeeyzwMAvCRdTmXLQv5A',\n",
       "  'about_page_serpapi_link': 'https://serpapi.com/search.json?engine=google_about_this_result&google_domain=google.com&ilps=AB_Lh3qVAlDQKKGeeyzwMAvCRdTmXLQv5A&q=About+https%3A%2F%2Fabout.gitlab.com%2F'},\n",
       " {'position': 5,\n",
       "  'title': '14 Git Hosting Services Compared | Tower Blog',\n",
       "  'link': 'https://www.git-tower.com/blog/git-hosting-services-compared/',\n",
       "  'displayed_link': 'https://www.git-tower.com › blog › git-hosting-services...',\n",
       "  'snippet': 'With an OpenSource background, GitLab offers a fast-evolving platform for code collaboration. The free community edition and the enterprise edition can be ...',\n",
       "  'snippet_highlighted_words': ['GitLab', 'free'],\n",
       "  'about_this_result': {'source': {'description': 'git-tower.com was first indexed by Google more than 10 years ago',\n",
       "    'source_info_link': 'https://www.git-tower.com/blog/git-hosting-services-compared/',\n",
       "    'security': 'secure',\n",
       "    'icon': 'https://serpapi.com/searches/63e7c7a8e0ded48f30ac52b7/images/dea020dba9924c44aa340756ceef73bdd5b9e733237cc4549eeae247ecc033d1bf2f0d9acf679a12f92c9a94d31e0767.png'}},\n",
       "  'about_page_link': 'https://www.google.com/search?q=About+https://www.git-tower.com/blog/git-hosting-services-compared/&tbm=ilp&ilps=AB_Lh3oUrKC7vgAdqo_uSyMMpHlFWWfK1g',\n",
       "  'about_page_serpapi_link': 'https://serpapi.com/search.json?engine=google_about_this_result&google_domain=google.com&ilps=AB_Lh3oUrKC7vgAdqo_uSyMMpHlFWWfK1g&q=About+https%3A%2F%2Fwww.git-tower.com%2Fblog%2Fgit-hosting-services-compared%2F',\n",
       "  'cached_page_link': 'https://webcache.googleusercontent.com/search?q=cache:nRnBMV8qsZkJ:https://www.git-tower.com/blog/git-hosting-services-compared/&cd=15&hl=en&ct=clnk&gl=us',\n",
       "  'related_pages_link': 'https://www.google.com/search?ucbcb=1&gl=us&q=related:https://www.git-tower.com/blog/git-hosting-services-compared/+free+git+cloud'},\n",
       " {'position': 6,\n",
       "  'title': \"GitHub: Let's build from here · GitHub\",\n",
       "  'link': 'https://github.com/',\n",
       "  'displayed_link': 'https://github.com',\n",
       "  'snippet': 'GitHub is where over 100 million developers shape the future of software, together. Contribute to the open source community, manage your Git repositories, ...',\n",
       "  'snippet_highlighted_words': ['Git'],\n",
       "  'about_this_result': {'source': {'description': 'GitHub, Inc. is an Internet hosting service for software development and version control using Git. It provides the distributed version control of Git plus access control, bug tracking, software feature requests, task management, continuous integration, and wikis for every project.',\n",
       "    'source_info_link': 'https://github.com/',\n",
       "    'security': 'secure',\n",
       "    'icon': 'https://serpapi.com/searches/63e7c7a8e0ded48f30ac52b7/images/dea020dba9924c44aa340756ceef73bd4299856dd5286a40fb593d7d742ee8a0d0c52c2ab3ab20402dae91c521ce4e5f.png'}},\n",
       "  'about_page_link': 'https://www.google.com/search?q=About+https://github.com/&tbm=ilp&ilps=AB_Lh3qyGQ2f_C947rWsyvWDDCCE1eOnLQ',\n",
       "  'about_page_serpapi_link': 'https://serpapi.com/search.json?engine=google_about_this_result&google_domain=google.com&ilps=AB_Lh3qyGQ2f_C947rWsyvWDDCCE1eOnLQ&q=About+https%3A%2F%2Fgithub.com%2F',\n",
       "  'cached_page_link': 'https://webcache.googleusercontent.com/search?q=cache:SZgkdCZ5k2sJ:https://github.com/&cd=16&hl=en&ct=clnk&gl=us',\n",
       "  'related_pages_link': 'https://www.google.com/search?ucbcb=1&gl=us&q=related:https://github.com/+free+git+cloud'},\n",
       " {'position': 7,\n",
       "  'title': 'Git',\n",
       "  'link': 'https://git-scm.com/',\n",
       "  'displayed_link': 'https://git-scm.com',\n",
       "  'snippet': 'Git is a free and open source distributed version control system designed to handle everything from small to very large projects with speed and efficiency.',\n",
       "  'snippet_highlighted_words': ['Git', 'free'],\n",
       "  'about_this_result': {'source': {'description': 'Git is a distributed version control system that tracks changes in any set of computer files, usually used for coordinating work among programmers collaboratively developing source code during software development. Its goals include speed, data integrity, and support for distributed, non-linear workflows.',\n",
       "    'source_info_link': 'https://git-scm.com/',\n",
       "    'security': 'secure',\n",
       "    'icon': 'https://serpapi.com/searches/63e7c7a8e0ded48f30ac52b7/images/dea020dba9924c44aa340756ceef73bd096b97e04b06c678ac0708d22a6d3c347c8013a63423560c085d7232c471ada1.png'}},\n",
       "  'about_page_link': 'https://www.google.com/search?q=About+https://git-scm.com/&tbm=ilp&ilps=AB_Lh3o9scEd5L6Xs9azjV14b75qomD_NA',\n",
       "  'about_page_serpapi_link': 'https://serpapi.com/search.json?engine=google_about_this_result&google_domain=google.com&ilps=AB_Lh3o9scEd5L6Xs9azjV14b75qomD_NA&q=About+https%3A%2F%2Fgit-scm.com%2F',\n",
       "  'cached_page_link': 'https://webcache.googleusercontent.com/search?q=cache:8wtA6r8r9WkJ:https://git-scm.com/&cd=17&hl=en&ct=clnk&gl=us',\n",
       "  'related_pages_link': 'https://www.google.com/search?ucbcb=1&gl=us&q=related:https://git-scm.com/+free+git+cloud'},\n",
       " {'position': 8,\n",
       "  'title': 'Top GitHub Alternatives to Host Your Open Source Projects',\n",
       "  'link': 'https://itsfoss.com/github-alternatives/',\n",
       "  'displayed_link': 'https://itsfoss.com › github-alternatives',\n",
       "  'snippet': '1. GitLab · 2. Bitbucket · 3. SourceForge · 4. Launchpad · 5. Google Cloud Source Repositories · 7. GitBucket (Self-Hosted) · 8. Gogs (Self-Hosted) · 9. Gitea (Self- ...',\n",
       "  'snippet_highlighted_words': ['GitLab', 'Cloud', 'GitBucket'],\n",
       "  'about_this_result': {'source': {'description': 'itsfoss.com was first indexed by Google more than 10 years ago',\n",
       "    'source_info_link': 'https://itsfoss.com/github-alternatives/',\n",
       "    'security': 'secure',\n",
       "    'icon': 'https://serpapi.com/searches/63e7c7a8e0ded48f30ac52b7/images/dea020dba9924c44aa340756ceef73bdc13b810a60f958bfeae87c0e5fc19a0360bbfc1b76dc082892544593a53c7360.png'}},\n",
       "  'about_page_link': 'https://www.google.com/search?q=About+https://itsfoss.com/github-alternatives/&tbm=ilp&ilps=AB_Lh3qxUoIqV8SRVyE6yVCSHZFUFfizMg',\n",
       "  'about_page_serpapi_link': 'https://serpapi.com/search.json?engine=google_about_this_result&google_domain=google.com&ilps=AB_Lh3qxUoIqV8SRVyE6yVCSHZFUFfizMg&q=About+https%3A%2F%2Fitsfoss.com%2Fgithub-alternatives%2F',\n",
       "  'cached_page_link': 'https://webcache.googleusercontent.com/search?q=cache:hOM9hTPolKEJ:https://itsfoss.com/github-alternatives/&cd=18&hl=en&ct=clnk&gl=us'},\n",
       " {'position': 9,\n",
       "  'title': 'Top 10 best Git hosting solutions and services in 2021',\n",
       "  'link': 'https://www.devopsschool.com/blog/top-5-git-hosting-solutions/',\n",
       "  'displayed_link': 'https://www.devopsschool.com › blog › top-5-git-hosti...',\n",
       "  'date': 'Sep 1, 2021',\n",
       "  'snippet': 'Free for 5 users – you can get an unlimited number of free private ... provides private and unlimited Git repository hosting in the cloud.',\n",
       "  'snippet_highlighted_words': ['Free', 'free', 'Git', 'cloud'],\n",
       "  'about_this_result': {'source': {'description': 'devopsschool.com was first indexed by Google in May 2013',\n",
       "    'source_info_link': 'https://www.devopsschool.com/blog/top-5-git-hosting-solutions/',\n",
       "    'security': 'secure',\n",
       "    'icon': 'https://serpapi.com/searches/63e7c7a8e0ded48f30ac52b7/images/dea020dba9924c44aa340756ceef73bdc8d50747c900a926c07a4327bdb201a241b1035e7f456196f5981b6f19c09e4f.png'}},\n",
       "  'about_page_link': 'https://www.google.com/search?q=About+https://www.devopsschool.com/blog/top-5-git-hosting-solutions/&tbm=ilp&ilps=AB_Lh3ojMg5UMeepReEBkm8iT2ubJUChbw',\n",
       "  'about_page_serpapi_link': 'https://serpapi.com/search.json?engine=google_about_this_result&google_domain=google.com&ilps=AB_Lh3ojMg5UMeepReEBkm8iT2ubJUChbw&q=About+https%3A%2F%2Fwww.devopsschool.com%2Fblog%2Ftop-5-git-hosting-solutions%2F',\n",
       "  'cached_page_link': 'https://webcache.googleusercontent.com/search?q=cache:7C2fdl6h4LcJ:https://www.devopsschool.com/blog/top-5-git-hosting-solutions/&cd=19&hl=en&ct=clnk&gl=us'},\n",
       " {'position': 10,\n",
       "  'title': '15 Best Github Alternatives in 2023 - Guru99',\n",
       "  'link': 'https://www.guru99.com/github-alternative.html',\n",
       "  'displayed_link': 'https://www.guru99.com › github-alternative',\n",
       "  'date': 'Feb 2, 2023',\n",
       "  'snippet': \"TaraVault is Inflectra's free cloud-based source code management solution for enterprises and teams of all sizes. · Bitbucket is version control ...\",\n",
       "  'snippet_highlighted_words': ['free cloud'],\n",
       "  'about_this_result': {'source': {'description': 'guru99.com was first indexed by Google more than 10 years ago',\n",
       "    'source_info_link': 'https://www.guru99.com/github-alternative.html',\n",
       "    'security': 'secure',\n",
       "    'icon': 'https://serpapi.com/searches/63e7c7a8e0ded48f30ac52b7/images/dea020dba9924c44aa340756ceef73bd79240f1a620c9ae1f6ced8dd654357d729f8677ab9efdb78c991cfb73a160102.png'}},\n",
       "  'about_page_link': 'https://www.google.com/search?q=About+https://www.guru99.com/github-alternative.html&tbm=ilp&ilps=AB_Lh3rVezZkC6wJoVcEfWSwd1Bhxq1XvA',\n",
       "  'about_page_serpapi_link': 'https://serpapi.com/search.json?engine=google_about_this_result&google_domain=google.com&ilps=AB_Lh3rVezZkC6wJoVcEfWSwd1Bhxq1XvA&q=About+https%3A%2F%2Fwww.guru99.com%2Fgithub-alternative.html',\n",
       "  'cached_page_link': 'https://webcache.googleusercontent.com/search?q=cache:s0nz-0NwVdUJ:https://www.guru99.com/github-alternative.html&cd=20&hl=en&ct=clnk&gl=us'}]"
      ]
     },
     "execution_count": 16,
     "metadata": {},
     "output_type": "execute_result"
    }
   ],
   "source": [
    "js['organic_results']"
   ]
  },
  {
   "cell_type": "code",
   "execution_count": 17,
   "id": "434e58a5-77a8-4d54-a495-8540361f6df7",
   "metadata": {},
   "outputs": [
    {
     "name": "stdout",
     "output_type": "stream",
     "text": [
      "1 6 places to host your git repository - Opensource.com\n",
      "https://opensource.com/article/18/8/github-alternatives\n",
      "False\n",
      "\n",
      "2 Bitbucket | Git solution for teams using Jira\n",
      "https://bitbucket.org/product\n",
      "True\n",
      "\n",
      "3 Gitpod: Always ready to code.\n",
      "https://www.gitpod.io/\n",
      "True\n",
      "\n",
      "4 GitLab: The DevSecOps Platform\n",
      "https://about.gitlab.com/\n",
      "True\n",
      "\n",
      "5 14 Git Hosting Services Compared | Tower Blog\n",
      "https://www.git-tower.com/blog/git-hosting-services-compared/\n",
      "False\n",
      "\n",
      "6 GitHub: Let's build from here · GitHub\n",
      "https://github.com/\n",
      "True\n",
      "\n",
      "7 Git\n",
      "https://git-scm.com/\n",
      "False\n",
      "\n",
      "8 Top GitHub Alternatives to Host Your Open Source Projects\n",
      "https://itsfoss.com/github-alternatives/\n",
      "False\n",
      "\n",
      "9 Top 10 best Git hosting solutions and services in 2021\n",
      "https://www.devopsschool.com/blog/top-5-git-hosting-solutions/\n",
      "False\n",
      "\n",
      "10 15 Best Github Alternatives in 2023 - Guru99\n",
      "https://www.guru99.com/github-alternative.html\n",
      "False\n",
      "\n"
     ]
    }
   ],
   "source": [
    "rels = []\n",
    "for result in js[\"organic_results\"]:\n",
    "    print(result['position'], result['title'])\n",
    "    print(result['link'])\n",
    "    print(is_rel(result['link']))\n",
    "    rels.append(int(is_rel(result['link'])))\n",
    "    print()"
   ]
  },
  {
   "cell_type": "code",
   "execution_count": 18,
   "id": "70849db7-918b-4b17-b045-3a5a06927936",
   "metadata": {},
   "outputs": [
    {
     "data": {
      "text/plain": [
       "[0, 1, 1, 1, 0, 1, 0, 0, 0, 0]"
      ]
     },
     "execution_count": 18,
     "metadata": {},
     "output_type": "execute_result"
    }
   ],
   "source": [
    "rels"
   ]
  },
  {
   "cell_type": "markdown",
   "id": "285eb724-2188-45d3-be78-cffb91bacee8",
   "metadata": {},
   "source": [
    "## 2.4. MRR\n",
    "\n",
    "Compute MRR:"
   ]
  },
  {
   "cell_type": "code",
   "execution_count": 27,
   "id": "33c40e3b-24d2-4c7b-860e-d543c1281f01",
   "metadata": {},
   "outputs": [],
   "source": [
    "def mrr(list_of_lists, k=10):\n",
    "    r = 0\n",
    "    for l in list_of_lists:\n",
    "        r += (1 / (k + 1)) if 1 not in l else 1 / (l.index(1) + 1)\n",
    "        #print(r)\n",
    "    return r / len(list_of_lists)"
   ]
  },
  {
   "cell_type": "code",
   "execution_count": 28,
   "id": "e64c4e28-9ae7-4715-96a2-adfa13c5b00b",
   "metadata": {},
   "outputs": [
    {
     "data": {
      "text/plain": [
       "0.09090909090909091"
      ]
     },
     "execution_count": 28,
     "metadata": {},
     "output_type": "execute_result"
    }
   ],
   "source": [
    "mrr([[0,0,0,0,0,0,0,0,0,0]])"
   ]
  },
  {
   "cell_type": "markdown",
   "id": "d644d32d-3d15-4d81-b3b5-396af0e85dd1",
   "metadata": {},
   "source": [
    "## 2.5. Precision\n",
    "Compute mean precision:"
   ]
  },
  {
   "cell_type": "code",
   "execution_count": 73,
   "id": "5be58a4a-deeb-48cd-9f81-cae0be9a8493",
   "metadata": {},
   "outputs": [],
   "source": [
    "def mp(list_of_lists, k=10):\n",
    "    p = 0\n",
    "    for l in list_of_lists:\n",
    "        p += sum(l) / k\n",
    "    return p / len(list_of_lists)"
   ]
  },
  {
   "cell_type": "code",
   "execution_count": 74,
   "id": "1d3fbb74-9b3d-46a2-98d9-4a8894c8e8b7",
   "metadata": {},
   "outputs": [
    {
     "data": {
      "text/plain": [
       "0.4"
      ]
     },
     "execution_count": 74,
     "metadata": {},
     "output_type": "execute_result"
    }
   ],
   "source": [
    "mp([rels])"
   ]
  }
 ],
 "metadata": {
  "kernelspec": {
   "display_name": "Python 3 (ipykernel)",
   "language": "python",
   "name": "python3"
  },
  "language_info": {
   "codemirror_mode": {
    "name": "ipython",
    "version": 3
   },
   "file_extension": ".py",
   "mimetype": "text/x-python",
   "name": "python",
   "nbconvert_exporter": "python",
   "pygments_lexer": "ipython3",
   "version": "3.8.8"
  }
 },
 "nbformat": 4,
 "nbformat_minor": 5
}
